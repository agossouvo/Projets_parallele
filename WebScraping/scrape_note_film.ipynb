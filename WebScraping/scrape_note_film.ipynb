{
 "cells": [
  {
   "cell_type": "code",
   "execution_count": 5,
   "metadata": {},
   "outputs": [],
   "source": [
    "from requests import get\n",
    "from bs4 import BeautifulSoup"
   ]
  },
  {
   "cell_type": "code",
   "execution_count": 10,
   "metadata": {},
   "outputs": [],
   "source": [
    "url =\"https://www.imdb.com/search/title/?release_date=2017&sort=num_votes,desc&page=1\""
   ]
  },
  {
   "cell_type": "code",
   "execution_count": 49,
   "metadata": {},
   "outputs": [
    {
     "name": "stdout",
     "output_type": "stream",
     "text": [
      "\n",
      "\n",
      "<!DOCTYPE html>\n",
      "<html\n",
      "    xmlns:og=\"http://ogp.me/ns#\"\n",
      "    xmlns:fb=\"http://www.facebook.com/2008/fbml\">\n",
      "    <head>\n",
      "         \n",
      "        <meta charset=\"utf-8\">\n",
      "        <meta http-equiv=\"X-UA-Compatible\" content=\"IE=edge\">\n",
      "\n",
      "    <meta name=\"apple-itunes-app\" content=\"app-id=342792525, app-argument=imdb:///?src=mdot\">\n",
      "\n",
      "\n",
      "\n",
      "        <script type=\"text/javascript\">var IMDbTimer={starttime: new Date().getTime(),pt:'java'};</script>\n",
      "\n",
      "<script>\n",
      "    if (typeof uet == 'function') {\n",
      "      uet(\"bb\", \"LoadTitle\",\n"
     ]
    }
   ],
   "source": [
    "response = get(url)\n",
    "print(response.text[:500])"
   ]
  },
  {
   "cell_type": "code",
   "execution_count": 90,
   "metadata": {},
   "outputs": [],
   "source": [
    "html_response = BeautifulSoup(response.text,'html.parser')"
   ]
  },
  {
   "cell_type": "code",
   "execution_count": 91,
   "metadata": {},
   "outputs": [
    {
     "data": {
      "text/plain": [
       "bs4.BeautifulSoup"
      ]
     },
     "execution_count": 91,
     "metadata": {},
     "output_type": "execute_result"
    }
   ],
   "source": [
    "type(html_response)"
   ]
  },
  {
   "cell_type": "code",
   "execution_count": 95,
   "metadata": {},
   "outputs": [
    {
     "name": "stdout",
     "output_type": "stream",
     "text": [
      "<class 'bs4.element.ResultSet'>\n",
      "50\n"
     ]
    }
   ],
   "source": [
    "case = html_response.find_all('div', class_ =\"lister-item mode-advanced\")\n",
    "print(type(case))\n",
    "print(len(case))"
   ]
  },
  {
   "cell_type": "code",
   "execution_count": 96,
   "metadata": {},
   "outputs": [],
   "source": [
    "first_movie = case[0]"
   ]
  },
  {
   "cell_type": "code",
   "execution_count": 97,
   "metadata": {},
   "outputs": [
    {
     "name": "stdout",
     "output_type": "stream",
     "text": [
      "<div class=\"lister-item mode-advanced\">\n",
      "<div class=\"lister-top-right\">\n",
      "<div class=\"ribbonize\" data-caller=\"filmosearch\" data-tconst=\"tt3315342\"></div>\n",
      "</div>\n",
      "<div class=\"lister-item-image float-left\">\n",
      "<a href=\"/title/tt3315342/\"> <img alt=\"Logan\" class=\"loadlate\" data-tconst=\"tt3315342\" height=\"98\" loadlate=\"https://m.media-amazon.com/images/M/MV5BYzc5MTU4N2EtYTkyMi00NjdhLTg3NWEtMTY4OTEyMzJhZTAzXkEyXkFqcGdeQXVyNjc1NTYyMjg@._V1_UX67_CR0,0,67,98_AL_.jpg\" src=\"https://m.media-amazon.com/images/G/01/imdb/images/nopicture/large/film-184890147._CB466725069_.png\" width=\"67\"/>\n",
      "</a> </div>\n",
      "<div class=\"lister-item-content\">\n",
      "<h3 class=\"lister-item-header\">\n",
      "<span class=\"lister-item-index unbold text-primary\">1.</span>\n",
      "<a href=\"/title/tt3315342/\">Logan</a>\n",
      "<span class=\"lister-item-year text-muted unbold\">(2017)</span>\n",
      "</h3>\n",
      "<p class=\"text-muted\">\n",
      "<span class=\"certificate\">12 avec avertissement</span>\n",
      "<span class=\"ghost\">|</span>\n",
      "<span class=\"runtime\">137 min</span>\n",
      "<span class=\"ghost\">|</span>\n",
      "<span class=\"genre\">\n",
      "Action, Drama, Sci-Fi            </span>\n",
      "</p>\n",
      "<div class=\"ratings-bar\">\n",
      "<div class=\"inline-block ratings-imdb-rating\" data-value=\"8.1\" name=\"ir\">\n",
      "<span class=\"global-sprite rating-star imdb-rating\"></span>\n",
      "<strong>8.1</strong>\n",
      "</div>\n",
      "<div class=\"inline-block ratings-user-rating\">\n",
      "<span class=\"userRatingValue\" data-tconst=\"tt3315342\" id=\"urv_tt3315342\">\n",
      "<span class=\"global-sprite rating-star no-rating\"></span>\n",
      "<span class=\"rate\" data-no-rating=\"Rate this\" data-value=\"0\" name=\"ur\">Rate this</span>\n",
      "</span>\n",
      "<div class=\"starBarWidget\" id=\"sb_tt3315342\">\n",
      "<div class=\"rating rating-list\" data-auth=\"\" data-ga-identifier=\"\" data-starbar-class=\"rating-list\" data-user=\"\" id=\"tt3315342|imdb|8.1|8.1|adv_li_tt||advsearch|title\" itemprop=\"aggregateRating\" itemscope=\"\" itemtype=\"http://schema.org/AggregateRating\" title=\"Users rated this 8.1/10 (638,323 votes) - click stars to rate\">\n",
      "<meta content=\"8.1\" itemprop=\"ratingValue\"/>\n",
      "<meta content=\"10\" itemprop=\"bestRating\"/>\n",
      "<meta content=\"638323\" itemprop=\"ratingCount\"/>\n",
      "<span class=\"rating-bg\"> </span>\n",
      "<span class=\"rating-imdb\" style=\"width: 113.4px\"> </span>\n",
      "<span class=\"rating-stars\">\n",
      "<a href=\"/register/login?why=vote\" rel=\"nofollow\" title=\"Register or login to rate this title\"><span>1</span></a>\n",
      "<a href=\"/register/login?why=vote\" rel=\"nofollow\" title=\"Register or login to rate this title\"><span>2</span></a>\n",
      "<a href=\"/register/login?why=vote\" rel=\"nofollow\" title=\"Register or login to rate this title\"><span>3</span></a>\n",
      "<a href=\"/register/login?why=vote\" rel=\"nofollow\" title=\"Register or login to rate this title\"><span>4</span></a>\n",
      "<a href=\"/register/login?why=vote\" rel=\"nofollow\" title=\"Register or login to rate this title\"><span>5</span></a>\n",
      "<a href=\"/register/login?why=vote\" rel=\"nofollow\" title=\"Register or login to rate this title\"><span>6</span></a>\n",
      "<a href=\"/register/login?why=vote\" rel=\"nofollow\" title=\"Register or login to rate this title\"><span>7</span></a>\n",
      "<a href=\"/register/login?why=vote\" rel=\"nofollow\" title=\"Register or login to rate this title\"><span>8</span></a>\n",
      "<a href=\"/register/login?why=vote\" rel=\"nofollow\" title=\"Register or login to rate this title\"><span>9</span></a>\n",
      "<a href=\"/register/login?why=vote\" rel=\"nofollow\" title=\"Register or login to rate this title\"><span>10</span></a>\n",
      "</span>\n",
      "<span class=\"rating-rating\"><span class=\"value\">8.1</span><span class=\"grey\">/</span><span class=\"grey\">10</span></span>\n",
      "<span class=\"rating-cancel\"><a href=\"/title/tt3315342/vote?v=X;k=\" rel=\"nofollow\" title=\"Delete\"><span>X</span></a></span>\n",
      " </div>\n",
      "</div>\n",
      "</div>\n",
      "<div class=\"inline-block ratings-metascore\">\n",
      "<span class=\"metascore favorable\">77        </span>\n",
      "        Metascore\n",
      "            </div>\n",
      "</div>\n",
      "<p class=\"text-muted\">\n",
      "    In a future where mutants are nearly extinct, an elderly and weary Logan leads a quiet life. But when Laura, a mutant child pursued by scientists, comes to him for help, he must get her to safety.</p>\n",
      "<p class=\"\">\n",
      "    Director:\n",
      "<a href=\"/name/nm0003506/\">James Mangold</a>\n",
      "<span class=\"ghost\">|</span> \n",
      "    Stars:\n",
      "<a href=\"/name/nm0413168/\">Hugh Jackman</a>, \n",
      "<a href=\"/name/nm0001772/\">Patrick Stewart</a>, \n",
      "<a href=\"/name/nm6748436/\">Dafne Keen</a>, \n",
      "<a href=\"/name/nm2933542/\">Boyd Holbrook</a>\n",
      "</p>\n",
      "<p class=\"sort-num_votes-visible\">\n",
      "<span class=\"text-muted\">Votes:</span>\n",
      "<span data-value=\"638323\" name=\"nv\">638,323</span>\n",
      "<span class=\"ghost\">|</span> <span class=\"text-muted\">Gross:</span>\n",
      "<span data-value=\"226,277,068\" name=\"nv\">$226.28M</span>\n",
      "</p>\n",
      "</div>\n",
      "</div>\n"
     ]
    }
   ],
   "source": [
    "print(first_movie)"
   ]
  },
  {
   "cell_type": "code",
   "execution_count": 104,
   "metadata": {},
   "outputs": [
    {
     "data": {
      "text/plain": [
       "'Logan'"
      ]
     },
     "execution_count": 104,
     "metadata": {},
     "output_type": "execute_result"
    }
   ],
   "source": [
    "# titre du film\n",
    "first_movie.h3.a.text"
   ]
  },
  {
   "cell_type": "code",
   "execution_count": null,
   "metadata": {},
   "outputs": [],
   "source": []
  },
  {
   "cell_type": "markdown",
   "metadata": {},
   "source": [
    "# SCRIPT FINAL "
   ]
  },
  {
   "cell_type": "code",
   "execution_count": 107,
   "metadata": {},
   "outputs": [
    {
     "name": "stdout",
     "output_type": "stream",
     "text": [
      "Request: 72; Frequency: 0.0709513747817682 requests/s\n"
     ]
    }
   ],
   "source": [
    "    from requests import get\n",
    "    from bs4 import BeautifulSoup\n",
    "    from time import sleep\n",
    "    from random import randint\n",
    "    from time import time\n",
    "    from IPython.display import clear_output\n",
    "     \n",
    "    import pandas as pd\n",
    "     \n",
    "    # Modification liée au changement de structure de l'url de recherche\n",
    "    # L'url n'est plus classée par page mais par premier élément\n",
    "    # Chaque page de recherche contient toujours 50 films\n",
    "    # Donc voici le nouvel url de recherche avec first_film qui prendra les valeurs 1, 51, 101,...:\n",
    "    # 'http://www.imdb.com/search/title?release_date='+ year_url +'&sort=num_votes,desc&start='+ start\n",
    "     \n",
    "    starts = [str(i) for i in range(1,201,50)]\n",
    "     \n",
    "    years_url = [str(i) for i in range(2000,2018)]\n",
    "     \n",
    "    # 1. Redéclarer les listes\n",
    "    names = []\n",
    "    years = []\n",
    "    imdb_ratings =[]\n",
    "    metascores = []\n",
    "    votes = []\n",
    "     \n",
    "    # 2. préparer l'affichage des boucles\n",
    "    start_time = time()\n",
    "    requests = 0\n",
    "     \n",
    "    # 3. Pour chaque année de l'intervalle 2000-2017\n",
    "    for year_url in years_url:\n",
    "        \n",
    "        # 4. boucle sur starts contenant les premiers films des pages de 1 à 4\n",
    "        for start in starts:\n",
    "            \n",
    "            # 5. Faire une requête GET\n",
    "            response = get('http://www.imdb.com/search/title?release_date='+ year_url +'&sort=num_votes,desc&start='+ start)\n",
    "            \n",
    "            # 6. Pause la boucle de 8 à 15 secondes\n",
    "            sleep(randint(8,15))\n",
    "            \n",
    "            # 7. Afficher les informations sur les requêtes\n",
    "            requests += 1\n",
    "            elapsed_time = time() - start_time\n",
    "            print('Request: {}; Frequency: {} requests/s'.format(requests, requests/elapsed_time))\n",
    "            clear_output(wait = True)\n",
    "            \n",
    "            # 8. Avertir si le code status est différent de 200\n",
    "            if response.status_code != 200:\n",
    "                warn('Request: {}; Status code: {}'.format(requests, response.status_code))\n",
    "                \n",
    "            # 9. Stopper la boucle si le nombre de requêtes est supérieur à 72\n",
    "            if requests > 72:\n",
    "                warn('Nombre de requêtes trop important')\n",
    "                break\n",
    "                \n",
    "            # 10. Extraire le HTML avec BeautifulSoup\n",
    "            page_html = BeautifulSoup(response.text, 'html.parser')\n",
    "            \n",
    "            # 11. Sélectionner les 50 films de chaque page (container)\n",
    "            mv_containers = page_html.find_all('div', class_=\"lister-item mode-advanced\")\n",
    "            \n",
    "            # 12. Boucle pour chaque container\n",
    "            for container in mv_containers:\n",
    "                # 13. Si le film a un Metascore\n",
    "                if container.find('div', class_='ratings-metascore') is not None:\n",
    "                    \n",
    "                    # 14. scrape le titre\n",
    "                    name = container.h3.a.text\n",
    "                    names.append(name)\n",
    "                    \n",
    "                    #15. scrape l'année\n",
    "                    year = container.h3.find('span', class_='lister-item-year').text\n",
    "                    years.append(year)\n",
    "                    \n",
    "                    #16. scrape la note IMDB\n",
    "                    imdb = float(container.strong.text)\n",
    "                    imdb_ratings.append(imdb)\n",
    "                    \n",
    "                    #17. scrape le Metascore\n",
    "                    metascore = container.find('span', class_='metascore').text\n",
    "                    metascores.append(int(metascore))\n",
    "                    \n",
    "                    #18. scrape le nombre de votes\n",
    "                    vote = container.find('span', attrs = {'name':'nv'})['data-value']\n",
    "                    votes.append(int(vote))\n",
    "     \n",
    "   "
   ]
  },
  {
   "cell_type": "code",
   "execution_count": null,
   "metadata": {},
   "outputs": [],
   "source": [
    " # Afficher les 100 premiers films dans un DataFrame\n",
    "    movie_ratings = pd.DataFrame({\n",
    "            'movie': names,\n",
    "            'year': years,\n",
    "            'imdb': imdb_ratings,\n",
    "            'metascore': metascores,\n",
    "            'votes': votes\n",
    "        })\n",
    "     \n",
    "    movie_ratings.head(100)"
   ]
  },
  {
   "cell_type": "code",
   "execution_count": null,
   "metadata": {},
   "outputs": [],
   "source": []
  },
  {
   "cell_type": "code",
   "execution_count": null,
   "metadata": {},
   "outputs": [],
   "source": []
  },
  {
   "cell_type": "code",
   "execution_count": null,
   "metadata": {},
   "outputs": [],
   "source": []
  }
 ],
 "metadata": {
  "kernelspec": {
   "display_name": "Python 3",
   "language": "python",
   "name": "python3"
  },
  "language_info": {
   "codemirror_mode": {
    "name": "ipython",
    "version": 3
   },
   "file_extension": ".py",
   "mimetype": "text/x-python",
   "name": "python",
   "nbconvert_exporter": "python",
   "pygments_lexer": "ipython3",
   "version": "3.7.0"
  }
 },
 "nbformat": 4,
 "nbformat_minor": 4
}
