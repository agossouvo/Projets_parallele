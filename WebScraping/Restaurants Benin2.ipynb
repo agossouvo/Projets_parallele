{
 "cells": [
  {
   "cell_type": "markdown",
   "metadata": {},
   "source": [
    "# Restaurants sur la page tripadvisor"
   ]
  },
  {
   "cell_type": "code",
   "execution_count": 137,
   "metadata": {},
   "outputs": [],
   "source": [
    "import pandas as pd\n",
    "import requests \n",
    "from bs4 import BeautifulSoup"
   ]
  },
  {
   "cell_type": "code",
   "execution_count": 2,
   "metadata": {},
   "outputs": [],
   "source": [
    "page = requests.get(\"https://www.tripadvisor.fr/Restaurants-g297314-Cotonou_Littoral_Department.html\")"
   ]
  },
  {
   "cell_type": "code",
   "execution_count": 3,
   "metadata": {},
   "outputs": [],
   "source": [
    "soup = BeautifulSoup(page.content,\"html.parser\")"
   ]
  },
  {
   "cell_type": "code",
   "execution_count": 119,
   "metadata": {},
   "outputs": [
    {
     "name": "stdout",
     "output_type": "stream",
     "text": [
      "<div class=\"_1kNOY9zw\">\n",
      " <div class=\"_2jF2URLh\">\n",
      "  <span>\n",
      "   <a class=\"_2uEVo25r _3tdrXOp7\" href=\"/Restaurant_Review-g297314-d4758907-Reviews-La_cabane_du_pecheur-Cotonou_Littoral_Department.html\" target=\"_blank\">\n",
      "    <div class=\"_2PhdrMP3\">\n",
      "    </div>\n",
      "    <div class=\"_2KPNYP9B\" data-clicksource=\"Photo\">\n",
      "    </div>\n",
      "   </a>\n",
      "  </span>\n",
      "  <div>\n",
      "   <div class=\"_2QJ7e_cW\">\n",
      "    <div class=\"_15aaPtHM _50cmFIkv D1m_VFgO _2a-PzfE-\">\n",
      "     <span class=\"_1YkiZl2_ _2geKhlYH\">\n",
      "      <span class=\"_1tvInqmQ _1T_s6QZp\">\n",
      "       <svg class=\"_2HBN-k68 _2JndpOur\" height=\"1em\" viewbox=\"0 0 24 24\" width=\"1em\">\n",
      "        <path d=\"M12 2C6.487 2 2 6.487 2 12c0 5.515 4.487 10 10 10 5.515 0 10-4.485 10-10 0-5.513-4.485-10-10-10zm4.688 10.911c-.975 1.188-4.687 4.434-4.687 4.434S8.258 14.1 7.29 12.903c-1.14-1.411-1.12-3.241.049-4.351.611-.58 1.42-.898 2.279-.898s1.668.318 2.279.898l.096.092.09-.087a3.296 3.296 0 012.278-.897c.86 0 1.669.318 2.277.897 1.201 1.139 1.219 2.929.05 4.354z\">\n",
      "        </path>\n",
      "       </svg>\n",
      "      </span>\n",
      "      <span class=\"_1tvInqmQ xIyKWMUr\">\n",
      "       <svg class=\"_2HBN-k68 _2JndpOur\" height=\"1em\" viewbox=\"0 0 24 24\" width=\"1em\">\n",
      "        <path d=\"M14.361 8.768c-.574 0-1.111.211-1.516.594l-.854.812-.861-.819c-.401-.382-.939-.592-1.513-.592s-1.111.21-1.514.593c-.876.832-.589 2.059.048 2.847.726.896 2.961 2.89 3.845 3.667.878-.779 3.098-2.771 3.831-3.665.662-.808.936-2 .047-2.844a2.182 2.182 0 00-1.513-.593z\">\n",
      "        </path>\n",
      "        <path d=\"M12 2C6.486 2 2 6.486 2 12s4.486 10 10 10 10-4.486 10-10S17.514 2 12 2zm4.688 10.911c-.975 1.188-4.687 4.435-4.687 4.435s-3.743-3.247-4.711-4.442c-1.141-1.411-1.12-3.241.049-4.351.61-.58 1.419-.898 2.279-.898s1.668.319 2.278.898l.096.091.09-.086a3.291 3.291 0 012.278-.897c.86 0 1.668.317 2.279.897 1.2 1.138 1.218 2.927.049 4.353z\">\n",
      "        </path>\n",
      "       </svg>\n",
      "      </span>\n",
      "     </span>\n",
      "    </div>\n",
      "   </div>\n",
      "  </div>\n",
      " </div>\n",
      " <div class=\"_2Q7zqOgW\">\n",
      "  <div class=\"_2kbTRHSI\">\n",
      "   <div class=\"wQjYiB7z\">\n",
      "    <span>\n",
      "     <a class=\"_15_ydu6b\" href=\"/Restaurant_Review-g297314-d4758907-Reviews-La_cabane_du_pecheur-Cotonou_Littoral_Department.html\" target=\"_blank\">\n",
      "      1\n",
      "      <!-- -->\n",
      "      .\n",
      "      <!-- -->\n",
      "      la cabane du pecheur\n",
      "     </a>\n",
      "    </span>\n",
      "   </div>\n",
      "  </div>\n",
      "  <div class=\"_2rmp5aUK\">\n",
      "   <div>\n",
      "    <div class=\"MIajtJFg _1cBs8huC\">\n",
      "     <span class=\"_1uEmzgPt EHA742uW\">\n",
      "      <span class=\"_1p0FLy4t\">\n",
      "       <span>\n",
      "        <a class=\"_2uEVo25r\" href=\"/Restaurant_Review-g297314-d4758907-Reviews-La_cabane_du_pecheur-Cotonou_Littoral_Department.html#REVIEWS\" target=\"_blank\">\n",
      "         <span class=\"_141TBKA-\">\n",
      "          <svg aria-label=\"4,0 sur 5 bulles\" class=\"_3KcXyP0F\" height=\"16\" title=\"4,0 sur 5 bulles\" viewbox=\"0 0 120 24\" width=\"80\">\n",
      "           <path d=\"M10.25 1.75a10.25 10.25 0 110 20.5 10.25 10.25 0 110-20.5m24 0a10.25 10.25 0 110 20.5 10.25 10.25 0 110-20.5m24 0a10.25 10.25 0 110 20.5 10.25 10.25 0 110-20.5m24 0a10.25 10.25 0 110 20.5 10.25 10.25 0 110-20.5m24 0a10.25 10.25 0 110 20.5 10.25 10.25 0 110-20.5m0 2.5a5.25 5.25 0 110 15.5 5.25 5.25 0 110-15.5\">\n",
      "           </path>\n",
      "          </svg>\n",
      "         </span>\n",
      "         <span class=\"w726Ki5B\">\n",
      "          121\n",
      "          <!-- -->\n",
      "          avis\n",
      "         </span>\n",
      "        </a>\n",
      "       </span>\n",
      "      </span>\n",
      "     </span>\n",
      "     <span class=\"EHA742uW _16JkOAhd\">\n",
      "      <span class=\"_1p0FLy4t\">\n",
      "       Fermé aujourd'hui\n",
      "      </span>\n",
      "     </span>\n",
      "    </div>\n",
      "    <div class=\"MIajtJFg _1cBs8huC _3d9EnJpt\">\n",
      "     <span class=\"EHA742uW\">\n",
      "      <span class=\"_1p0FLy4t\">\n",
      "       Fruits de mer &amp; Poisson, Africaine\n",
      "      </span>\n",
      "     </span>\n",
      "     <span class=\"EHA742uW\">\n",
      "      <span class=\"_1p0FLy4t\">\n",
      "       €€ - €€€\n",
      "      </span>\n",
      "     </span>\n",
      "    </div>\n",
      "   </div>\n",
      "  </div>\n",
      "  <div class=\"_2MLlqQGR\">\n",
      "  </div>\n",
      "  <div class=\"_3bvktyA3\">\n",
      "   <div class=\"_3hu2oQ7V _26lf-Ya3\">\n",
      "    <span class=\"iXPDyayE\">\n",
      "     <svg class=\"_2HBN-k68 _2JndpOur\" height=\"1em\" viewbox=\"0 0 24 24\" width=\"1em\">\n",
      "      <path d=\"M2 11h5l-3 5h4l3-5V2H2zM13 2v9h5l-3 5h4l3-5V2z\">\n",
      "      </path>\n",
      "     </svg>\n",
      "    </span>\n",
      "    <span>\n",
      "     <a class=\"_2uEVo25r _3mPt7dFq\" href=\"/ShowUserReviews-g297314-d4758907-r764820704-La_cabane_du_pecheur-Cotonou_Littoral_Department.html\" target=\"_blank\">\n",
      "      <span class=\"_1OfeygW_\">\n",
      "       “Super cadre et plats délicieux”\n",
      "      </span>\n",
      "     </a>\n",
      "    </span>\n",
      "   </div>\n",
      "   <div class=\"_3hu2oQ7V n-kovNea\">\n",
      "    <span class=\"iXPDyayE\">\n",
      "     <svg class=\"_2HBN-k68 _2JndpOur\" height=\"1em\" viewbox=\"0 0 24 24\" width=\"1em\">\n",
      "      <path d=\"M2 11h5l-3 5h4l3-5V2H2zM13 2v9h5l-3 5h4l3-5V2z\">\n",
      "      </path>\n",
      "     </svg>\n",
      "    </span>\n",
      "    <span>\n",
      "     <a class=\"_2uEVo25r _3mPt7dFq\" href=\"/ShowUserReviews-g297314-d4758907-r768433612-La_cabane_du_pecheur-Cotonou_Littoral_Department.html\" target=\"_blank\">\n",
      "      <span class=\"_1OfeygW_\">\n",
      "       “Table excellente et la possibilité”\n",
      "      </span>\n",
      "     </a>\n",
      "    </span>\n",
      "   </div>\n",
      "  </div>\n",
      "  <div class=\"Dug7cOwy\">\n",
      "  </div>\n",
      " </div>\n",
      "</div>\n",
      "\n"
     ]
    }
   ],
   "source": [
    "#rest = soup.find(\"div\",id =\"EATERY_LIST_CONTENTS\")\n",
    "resto = soup.find(class_=\"_1kXteagE\")\n",
    "restos = resto.find_all(class_ = \"_1kNOY9zw\")\n",
    "rest = restos[0]\n",
    "print(rest.prettify())"
   ]
  },
  {
   "cell_type": "code",
   "execution_count": 121,
   "metadata": {},
   "outputs": [
    {
     "name": "stdout",
     "output_type": "stream",
     "text": [
      "1. la cabane du pecheur\n"
     ]
    }
   ],
   "source": [
    "a = rest.find(class_ = \"wQjYiB7z\").get_text()\n",
    "print(a)\n"
   ]
  },
  {
   "cell_type": "code",
   "execution_count": 120,
   "metadata": {},
   "outputs": [
    {
     "name": "stdout",
     "output_type": "stream",
     "text": [
      "121 avis\n"
     ]
    }
   ],
   "source": [
    "b = rest.find(class_ =\"w726Ki5B\").get_text()\n",
    "print(b)"
   ]
  },
  {
   "cell_type": "code",
   "execution_count": 122,
   "metadata": {
    "scrolled": true
   },
   "outputs": [
    {
     "name": "stdout",
     "output_type": "stream",
     "text": [
      "121 avis\n"
     ]
    }
   ],
   "source": [
    "c = rest.find(class_ = \"EHA742uW\").get_text()\n",
    "print(c)"
   ]
  },
  {
   "cell_type": "code",
   "execution_count": 123,
   "metadata": {},
   "outputs": [],
   "source": [
    "resto_type =resto.select(\"._1kNOY9zw .wQjYiB7z\")\n",
    "nom_resto = [res.get_text() for res in resto_type]"
   ]
  },
  {
   "cell_type": "code",
   "execution_count": 124,
   "metadata": {},
   "outputs": [
    {
     "name": "stdout",
     "output_type": "stream",
     "text": [
      "['1. la cabane du pecheur', '2. Livingstone', '3. Jaaba - Grill & Bar', '4. Shamiana', '5. Bangkok Terrasse', '6. Le Prive', '7. Maquis du Port', '8. HOTEL DU LAC', '9. La Plancha', '10. Le Sorrento', '11. Pili Pili', \"12. L'Imprévu\", '13. Tandoori Nights', '14. Les Nouveaux Alizes', '15. Le Hublot', '16. Wasabi Sushi Bar', '17. Le Berlin', '18. Wado', '19. Chez Maman Benin', '20. Hai King', '21. Le Resto', '22. La Residence', '23. Dream Beach', '24. Les 3 Mousquetaires', '25. Restaurant Ya-Hala', '26. Rousski Dom', '27. La Marine', \"28. Lyz' Créole\", '29. Mojito', \"30. Les Copains d'abord\"]\n"
     ]
    }
   ],
   "source": [
    "print(nom_resto)"
   ]
  },
  {
   "cell_type": "code",
   "execution_count": 125,
   "metadata": {},
   "outputs": [],
   "source": [
    "resto_type =resto.select(\"._1kNOY9zw .w726Ki5B\")\n",
    "avis_resto = [res.get_text() for res in resto_type]"
   ]
  },
  {
   "cell_type": "code",
   "execution_count": 126,
   "metadata": {},
   "outputs": [
    {
     "name": "stdout",
     "output_type": "stream",
     "text": [
      "['121 avis', '248 avis', '31 avis', '76 avis', '109 avis', '56 avis', '158 avis', '91 avis', '69 avis', '94 avis', '84 avis', '46 avis', '31 avis', '16 avis', '10 avis', '21 avis', '28 avis', '17 avis', '69 avis', '27 avis', '28 avis', '16 avis', '29 avis', '9 avis', '4 avis', '31 avis', '5 avis', '5 avis', '18 avis', '7 avis']\n"
     ]
    }
   ],
   "source": [
    "print(avis_resto)"
   ]
  },
  {
   "cell_type": "code",
   "execution_count": 134,
   "metadata": {},
   "outputs": [],
   "source": [
    "resto_type =resto.select.(\"._1kNOY9zw .EHA742uW\")\n",
    "den_resto = [res.get_text() for res in resto_type]"
   ]
  },
  {
   "cell_type": "code",
   "execution_count": 135,
   "metadata": {},
   "outputs": [
    {
     "name": "stdout",
     "output_type": "stream",
     "text": [
      "['121 avis']\n"
     ]
    }
   ],
   "source": [
    "print(den_resto)"
   ]
  },
  {
   "cell_type": "code",
   "execution_count": 138,
   "metadata": {},
   "outputs": [],
   "source": [
    "restaurants = pd.DataFrame({\n",
    "    \"resto\" : nom_resto,\n",
    "    \"avis\" :avis_resto\n",
    "})"
   ]
  },
  {
   "cell_type": "code",
   "execution_count": 141,
   "metadata": {},
   "outputs": [
    {
     "data": {
      "text/html": [
       "<div>\n",
       "<style scoped>\n",
       "    .dataframe tbody tr th:only-of-type {\n",
       "        vertical-align: middle;\n",
       "    }\n",
       "\n",
       "    .dataframe tbody tr th {\n",
       "        vertical-align: top;\n",
       "    }\n",
       "\n",
       "    .dataframe thead th {\n",
       "        text-align: right;\n",
       "    }\n",
       "</style>\n",
       "<table border=\"1\" class=\"dataframe\">\n",
       "  <thead>\n",
       "    <tr style=\"text-align: right;\">\n",
       "      <th></th>\n",
       "      <th>resto</th>\n",
       "      <th>avis</th>\n",
       "    </tr>\n",
       "  </thead>\n",
       "  <tbody>\n",
       "    <tr>\n",
       "      <th>0</th>\n",
       "      <td>1. la cabane du pecheur</td>\n",
       "      <td>121 avis</td>\n",
       "    </tr>\n",
       "    <tr>\n",
       "      <th>1</th>\n",
       "      <td>2. Livingstone</td>\n",
       "      <td>248 avis</td>\n",
       "    </tr>\n",
       "    <tr>\n",
       "      <th>2</th>\n",
       "      <td>3. Jaaba - Grill &amp; Bar</td>\n",
       "      <td>31 avis</td>\n",
       "    </tr>\n",
       "    <tr>\n",
       "      <th>3</th>\n",
       "      <td>4. Shamiana</td>\n",
       "      <td>76 avis</td>\n",
       "    </tr>\n",
       "    <tr>\n",
       "      <th>4</th>\n",
       "      <td>5. Bangkok Terrasse</td>\n",
       "      <td>109 avis</td>\n",
       "    </tr>\n",
       "    <tr>\n",
       "      <th>5</th>\n",
       "      <td>6. Le Prive</td>\n",
       "      <td>56 avis</td>\n",
       "    </tr>\n",
       "    <tr>\n",
       "      <th>6</th>\n",
       "      <td>7. Maquis du Port</td>\n",
       "      <td>158 avis</td>\n",
       "    </tr>\n",
       "    <tr>\n",
       "      <th>7</th>\n",
       "      <td>8. HOTEL DU LAC</td>\n",
       "      <td>91 avis</td>\n",
       "    </tr>\n",
       "    <tr>\n",
       "      <th>8</th>\n",
       "      <td>9. La Plancha</td>\n",
       "      <td>69 avis</td>\n",
       "    </tr>\n",
       "    <tr>\n",
       "      <th>9</th>\n",
       "      <td>10. Le Sorrento</td>\n",
       "      <td>94 avis</td>\n",
       "    </tr>\n",
       "    <tr>\n",
       "      <th>10</th>\n",
       "      <td>11. Pili Pili</td>\n",
       "      <td>84 avis</td>\n",
       "    </tr>\n",
       "    <tr>\n",
       "      <th>11</th>\n",
       "      <td>12. L'Imprévu</td>\n",
       "      <td>46 avis</td>\n",
       "    </tr>\n",
       "    <tr>\n",
       "      <th>12</th>\n",
       "      <td>13. Tandoori Nights</td>\n",
       "      <td>31 avis</td>\n",
       "    </tr>\n",
       "    <tr>\n",
       "      <th>13</th>\n",
       "      <td>14. Les Nouveaux Alizes</td>\n",
       "      <td>16 avis</td>\n",
       "    </tr>\n",
       "    <tr>\n",
       "      <th>14</th>\n",
       "      <td>15. Le Hublot</td>\n",
       "      <td>10 avis</td>\n",
       "    </tr>\n",
       "    <tr>\n",
       "      <th>15</th>\n",
       "      <td>16. Wasabi Sushi Bar</td>\n",
       "      <td>21 avis</td>\n",
       "    </tr>\n",
       "    <tr>\n",
       "      <th>16</th>\n",
       "      <td>17. Le Berlin</td>\n",
       "      <td>28 avis</td>\n",
       "    </tr>\n",
       "    <tr>\n",
       "      <th>17</th>\n",
       "      <td>18. Wado</td>\n",
       "      <td>17 avis</td>\n",
       "    </tr>\n",
       "    <tr>\n",
       "      <th>18</th>\n",
       "      <td>19. Chez Maman Benin</td>\n",
       "      <td>69 avis</td>\n",
       "    </tr>\n",
       "    <tr>\n",
       "      <th>19</th>\n",
       "      <td>20. Hai King</td>\n",
       "      <td>27 avis</td>\n",
       "    </tr>\n",
       "    <tr>\n",
       "      <th>20</th>\n",
       "      <td>21. Le Resto</td>\n",
       "      <td>28 avis</td>\n",
       "    </tr>\n",
       "    <tr>\n",
       "      <th>21</th>\n",
       "      <td>22. La Residence</td>\n",
       "      <td>16 avis</td>\n",
       "    </tr>\n",
       "    <tr>\n",
       "      <th>22</th>\n",
       "      <td>23. Dream Beach</td>\n",
       "      <td>29 avis</td>\n",
       "    </tr>\n",
       "    <tr>\n",
       "      <th>23</th>\n",
       "      <td>24. Les 3 Mousquetaires</td>\n",
       "      <td>9 avis</td>\n",
       "    </tr>\n",
       "    <tr>\n",
       "      <th>24</th>\n",
       "      <td>25. Restaurant Ya-Hala</td>\n",
       "      <td>4 avis</td>\n",
       "    </tr>\n",
       "    <tr>\n",
       "      <th>25</th>\n",
       "      <td>26. Rousski Dom</td>\n",
       "      <td>31 avis</td>\n",
       "    </tr>\n",
       "    <tr>\n",
       "      <th>26</th>\n",
       "      <td>27. La Marine</td>\n",
       "      <td>5 avis</td>\n",
       "    </tr>\n",
       "    <tr>\n",
       "      <th>27</th>\n",
       "      <td>28. Lyz' Créole</td>\n",
       "      <td>5 avis</td>\n",
       "    </tr>\n",
       "    <tr>\n",
       "      <th>28</th>\n",
       "      <td>29. Mojito</td>\n",
       "      <td>18 avis</td>\n",
       "    </tr>\n",
       "    <tr>\n",
       "      <th>29</th>\n",
       "      <td>30. Les Copains d'abord</td>\n",
       "      <td>7 avis</td>\n",
       "    </tr>\n",
       "  </tbody>\n",
       "</table>\n",
       "</div>"
      ],
      "text/plain": [
       "                      resto      avis\n",
       "0   1. la cabane du pecheur  121 avis\n",
       "1            2. Livingstone  248 avis\n",
       "2    3. Jaaba - Grill & Bar   31 avis\n",
       "3               4. Shamiana   76 avis\n",
       "4       5. Bangkok Terrasse  109 avis\n",
       "5               6. Le Prive   56 avis\n",
       "6         7. Maquis du Port  158 avis\n",
       "7           8. HOTEL DU LAC   91 avis\n",
       "8             9. La Plancha   69 avis\n",
       "9           10. Le Sorrento   94 avis\n",
       "10            11. Pili Pili   84 avis\n",
       "11            12. L'Imprévu   46 avis\n",
       "12      13. Tandoori Nights   31 avis\n",
       "13  14. Les Nouveaux Alizes   16 avis\n",
       "14            15. Le Hublot   10 avis\n",
       "15     16. Wasabi Sushi Bar   21 avis\n",
       "16            17. Le Berlin   28 avis\n",
       "17                 18. Wado   17 avis\n",
       "18     19. Chez Maman Benin   69 avis\n",
       "19             20. Hai King   27 avis\n",
       "20             21. Le Resto   28 avis\n",
       "21         22. La Residence   16 avis\n",
       "22          23. Dream Beach   29 avis\n",
       "23  24. Les 3 Mousquetaires    9 avis\n",
       "24   25. Restaurant Ya-Hala    4 avis\n",
       "25          26. Rousski Dom   31 avis\n",
       "26            27. La Marine    5 avis\n",
       "27          28. Lyz' Créole    5 avis\n",
       "28               29. Mojito   18 avis\n",
       "29  30. Les Copains d'abord    7 avis"
      ]
     },
     "execution_count": 141,
     "metadata": {},
     "output_type": "execute_result"
    }
   ],
   "source": [
    "restaurants\n"
   ]
  },
  {
   "cell_type": "code",
   "execution_count": null,
   "metadata": {},
   "outputs": [],
   "source": []
  },
  {
   "cell_type": "code",
   "execution_count": null,
   "metadata": {},
   "outputs": [],
   "source": []
  },
  {
   "cell_type": "code",
   "execution_count": null,
   "metadata": {},
   "outputs": [],
   "source": []
  },
  {
   "cell_type": "code",
   "execution_count": null,
   "metadata": {},
   "outputs": [],
   "source": []
  }
 ],
 "metadata": {
  "kernelspec": {
   "display_name": "Python 3",
   "language": "python",
   "name": "python3"
  },
  "language_info": {
   "codemirror_mode": {
    "name": "ipython",
    "version": 3
   },
   "file_extension": ".py",
   "mimetype": "text/x-python",
   "name": "python",
   "nbconvert_exporter": "python",
   "pygments_lexer": "ipython3",
   "version": "3.7.0"
  }
 },
 "nbformat": 4,
 "nbformat_minor": 4
}
