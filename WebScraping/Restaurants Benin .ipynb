{
 "cells": [
  {
   "cell_type": "markdown",
   "metadata": {},
   "source": [
    "# Restaurants du benin sur la page goafricaonline"
   ]
  },
  {
   "cell_type": "code",
   "execution_count": 142,
   "metadata": {},
   "outputs": [],
   "source": [
    "import json\n",
    "import re\n",
    "import pandas as pd\n",
    "from requests import get\n",
    "from bs4 import BeautifulSoup"
   ]
  },
  {
   "cell_type": "code",
   "execution_count": 20,
   "metadata": {},
   "outputs": [],
   "source": [
    "page = get(\"https://www.goafricaonline.com/bj/annuaire/restaurants\")\n",
    "soup = BeautifulSoup(page.text,\"html.parser\")"
   ]
  },
  {
   "cell_type": "code",
   "execution_count": 85,
   "metadata": {},
   "outputs": [
    {
     "name": "stdout",
     "output_type": "stream",
     "text": [
      "<div class=\"flex w-full\">\n",
      " <div class=\"w-full\">\n",
      "  <div class=\"flex flex-col t:flex-row mb-8 t:mb-0\">\n",
      "   <div class=\"flex-1\">\n",
      "    <a class=\"stretched-link font-bold text-16 t:text-20 text-black hover:text-black no-underline hover:no-underline\" href=\"/bj/14273-805-restaurants-cotonou-benin\">\n",
      "     8°5\n",
      "    </a>\n",
      "    <div class=\"text-14 text-brand-blue mb-4\">\n",
      "     Restaurants\n",
      "    </div>\n",
      "   </div>\n",
      "   <div class=\"flex mt-2 mb-0 ls:mb-4 items-center\">\n",
      "   </div>\n",
      "  </div>\n",
      "  <div class=\"flex font-light flex-col t:flex-row mb-8 t:mb-0\">\n",
      "   <div class=\"flex\">\n",
      "    <i class=\"tnp tnp-pinpoint mr-4 text-gray-400 text-20\">\n",
      "    </i>\n",
      "    <address class=\"text-14 text-gray-700 flex-1\">\n",
      "     Haie Vive, Rue 375 - Plan E3 - Page 169\n",
      "     <br/>\n",
      "     Cotonou - Bénin\n",
      "    </address>\n",
      "   </div>\n",
      "   <div class=\"flex flex-1 t:ml-10 min-w-180px\">\n",
      "    <i class=\"tnp tnp-smartphone-2 mr-4 text-gray-400 text-20\">\n",
      "    </i>\n",
      "    <a class=\"z-10 text-13 t:text-14 text-gray-700 underline hover:no-underline\" data-collect-event-on-click='{\"type\":\"click_company_coordinate\",\"company\":14273,\"coordinate\":183170,\"link\":\"tel:+229 21 03 73 74\"}' href=\"tel:+229 21 03 73 74\">\n",
      "     Tel:\n",
      "     <span class=\"phone-area-code\">\n",
      "      (+229)\n",
      "     </span>\n",
      "     21 03 73 74\n",
      "    </a>\n",
      "   </div>\n",
      "  </div>\n",
      "  <div class=\"hidden t:flex mt-4 mb-8 -mx-8\">\n",
      "   <a class=\"flex items-center flex-col mm:flex-row t:px-8 z-10 group cursor-pointer no-underline hover:no-underline\" data-cypher-link=\"ulmbl_goafrica_JWL19mbvR3bj1yc05WYyVXY0NXZy1SNwgTLzcjM0EzLqJ2L\">\n",
      "    <div class=\"rounded-full flex items-center justify-center w-14 h-14 t:w-16 t:h-16 mb-2 mm:mb-0 mm:mr-3 border border-solid bg-white border-link group-hover:bg-link\">\n",
      "     <i class=\"tnp tnp-file text-20 text-link group-hover:text-white\">\n",
      "     </i>\n",
      "    </div>\n",
      "    <div class=\"text-13 t:text-14 text-link group-hover:underline\">\n",
      "     Fiche\n",
      "    </div>\n",
      "   </a>\n",
      "  </div>\n",
      " </div>\n",
      "</div>\n",
      "\n"
     ]
    }
   ],
   "source": [
    "resto_containers = soup.find_all('div',class_=\"flex w-full\")\n",
    "print(resto_containers[0].prettify())"
   ]
  },
  {
   "cell_type": "code",
   "execution_count": 144,
   "metadata": {},
   "outputs": [
    {
     "name": "stdout",
     "output_type": "stream",
     "text": [
      "\n",
      "                            8°5\n",
      "                        \n",
      "<class 'str'>\n"
     ]
    }
   ],
   "source": [
    "nom_resto = resto_containers[0].a.text\n",
    "print(nom_resto)\n",
    "print(type(nom_resto))"
   ]
  },
  {
   "cell_type": "code",
   "execution_count": 87,
   "metadata": {},
   "outputs": [
    {
     "name": "stdout",
     "output_type": "stream",
     "text": [
      "\n",
      "                            GbegameyCotonou - Bénin\n",
      "                        \n"
     ]
    }
   ],
   "source": [
    "address = resto_containers[1].address.text\n",
    "print(address)"
   ]
  },
  {
   "cell_type": "code",
   "execution_count": 88,
   "metadata": {},
   "outputs": [
    {
     "name": "stdout",
     "output_type": "stream",
     "text": [
      "\n",
      "                                    Gsm:\n",
      "                                    (+229)\n",
      "                                    96 17 37 33\n",
      "                                \n"
     ]
    }
   ],
   "source": [
    "phone = resto_containers[1].find(class_ = \"flex flex-1 t:ml-10 min-w-180px\")\n",
    "print(phone.a.text)"
   ]
  },
  {
   "cell_type": "markdown",
   "metadata": {},
   "source": [
    "# les donnees dans des listes "
   ]
  },
  {
   "cell_type": "code",
   "execution_count": null,
   "metadata": {},
   "outputs": [],
   "source": [
    "# le nom, l'adresse et le numero des restaurants de la 1ère page "
   ]
  },
  {
   "cell_type": "code",
   "execution_count": 119,
   "metadata": {},
   "outputs": [],
   "source": []
  },
  {
   "cell_type": "code",
   "execution_count": 156,
   "metadata": {},
   "outputs": [],
   "source": [
    "nom_restaurant=[]\n",
    "adresse_restaurant=[]\n",
    "phone_restaurant=[]\n",
    "for container in resto_containers :\n",
    "    x = container.a.text\n",
    "    nom_restaurant.append(x)\n",
    "    y = container.address.text\n",
    "    adresse_restaurant.append(y)\n",
    "    z = container.find(class_ = \"flex flex-1 t:ml-10 min-w-180px\").a.text \n",
    "    phone_restaurant.append(z)\n",
    "    \n",
    "    "
   ]
  },
  {
   "cell_type": "code",
   "execution_count": 157,
   "metadata": {},
   "outputs": [],
   "source": [
    "tableau = pd.DataFrame({\n",
    "    'nom' : nom_restaurant,\n",
    "    'adresse': adresse_restaurant,\n",
    "    'telephone': phone_restaurant\n",
    "    })"
   ]
  },
  {
   "cell_type": "code",
   "execution_count": 158,
   "metadata": {},
   "outputs": [
    {
     "name": "stdout",
     "output_type": "stream",
     "text": [
      "<class 'pandas.core.frame.DataFrame'>\n",
      "RangeIndex: 20 entries, 0 to 19\n",
      "Data columns (total 3 columns):\n",
      " #   Column     Non-Null Count  Dtype \n",
      "---  ------     --------------  ----- \n",
      " 0   nom        20 non-null     object\n",
      " 1   adresse    20 non-null     object\n",
      " 2   telephone  20 non-null     object\n",
      "dtypes: object(3)\n",
      "memory usage: 608.0+ bytes\n",
      "None\n"
     ]
    }
   ],
   "source": [
    "print(tableau.info())"
   ]
  },
  {
   "cell_type": "code",
   "execution_count": 159,
   "metadata": {},
   "outputs": [
    {
     "data": {
      "text/html": [
       "<div>\n",
       "<style scoped>\n",
       "    .dataframe tbody tr th:only-of-type {\n",
       "        vertical-align: middle;\n",
       "    }\n",
       "\n",
       "    .dataframe tbody tr th {\n",
       "        vertical-align: top;\n",
       "    }\n",
       "\n",
       "    .dataframe thead th {\n",
       "        text-align: right;\n",
       "    }\n",
       "</style>\n",
       "<table border=\"1\" class=\"dataframe\">\n",
       "  <thead>\n",
       "    <tr style=\"text-align: right;\">\n",
       "      <th></th>\n",
       "      <th>nom</th>\n",
       "      <th>adresse</th>\n",
       "      <th>telephone</th>\n",
       "    </tr>\n",
       "  </thead>\n",
       "  <tbody>\n",
       "    <tr>\n",
       "      <th>0</th>\n",
       "      <td>\\n                            8°5\\n           ...</td>\n",
       "      <td>\\n                            Haie Vive, Rue 3...</td>\n",
       "      <td>\\n                                    Tel:\\n  ...</td>\n",
       "    </tr>\n",
       "    <tr>\n",
       "      <th>1</th>\n",
       "      <td>\\n                            A LA DECOUVERTE\\...</td>\n",
       "      <td>\\n                            GbegameyCotonou ...</td>\n",
       "      <td>\\n                                    Gsm:\\n  ...</td>\n",
       "    </tr>\n",
       "    <tr>\n",
       "      <th>2</th>\n",
       "      <td>\\n                            ACROPOLE HOTEL\\n...</td>\n",
       "      <td>\\n                            Rue 308Guinkomey...</td>\n",
       "      <td>\\n                                    Tel:\\n  ...</td>\n",
       "    </tr>\n",
       "    <tr>\n",
       "      <th>3</th>\n",
       "      <td>\\n                            AFRICA SOUND CIT...</td>\n",
       "      <td>\\n                            Rue en face de l...</td>\n",
       "      <td>\\n                                    Tel:\\n  ...</td>\n",
       "    </tr>\n",
       "    <tr>\n",
       "      <th>4</th>\n",
       "      <td>\\n                            AFRICAIN EUROPEE...</td>\n",
       "      <td>\\n                            BP 1922, Atinkan...</td>\n",
       "      <td>\\n                                    Tel:\\n  ...</td>\n",
       "    </tr>\n",
       "    <tr>\n",
       "      <th>5</th>\n",
       "      <td>\\n                            AFRILANDO\\n     ...</td>\n",
       "      <td>\\n                            Carrefour  Aïtch...</td>\n",
       "      <td>\\n                                    Gsm:\\n  ...</td>\n",
       "    </tr>\n",
       "    <tr>\n",
       "      <th>6</th>\n",
       "      <td>\\n                            AGRO DYNAMIQUE\\n...</td>\n",
       "      <td>\\n                            MenontinCotonou ...</td>\n",
       "      <td>\\n                                    Gsm:\\n  ...</td>\n",
       "    </tr>\n",
       "    <tr>\n",
       "      <th>7</th>\n",
       "      <td>\\n                            AKANGO\\n        ...</td>\n",
       "      <td>\\n                            -Porto-Novo - Bé...</td>\n",
       "      <td>\\n                                    Gsm:\\n  ...</td>\n",
       "    </tr>\n",
       "    <tr>\n",
       "      <th>8</th>\n",
       "      <td>\\n                            AKP ETERNEL PLUS...</td>\n",
       "      <td>\\n                            -Abomey-Calavi -...</td>\n",
       "      <td>\\n                                    Gsm:\\n  ...</td>\n",
       "    </tr>\n",
       "    <tr>\n",
       "      <th>9</th>\n",
       "      <td>\\n                            ALEX'S HOTEL\\n  ...</td>\n",
       "      <td>\\n                            235, Rue ChagasG...</td>\n",
       "      <td>\\n                                    Tel:\\n  ...</td>\n",
       "    </tr>\n",
       "    <tr>\n",
       "      <th>10</th>\n",
       "      <td>\\n                            ALISEE\\n        ...</td>\n",
       "      <td>\\n                            Fignon, Rue 506 ...</td>\n",
       "      <td>\\n                                    Gsm:\\n  ...</td>\n",
       "    </tr>\n",
       "    <tr>\n",
       "      <th>11</th>\n",
       "      <td>\\n                            AMAZONE DES COLL...</td>\n",
       "      <td>\\n                            PK 14GodomeyAbom...</td>\n",
       "      <td>\\n                                    Gsm:\\n  ...</td>\n",
       "    </tr>\n",
       "    <tr>\n",
       "      <th>12</th>\n",
       "      <td>\\n                            ANGELO\\n        ...</td>\n",
       "      <td>\\n                            Route de la Dire...</td>\n",
       "      <td>\\n                                    Gsm:\\n  ...</td>\n",
       "    </tr>\n",
       "    <tr>\n",
       "      <th>13</th>\n",
       "      <td>\\n                            ANTIKA\\n        ...</td>\n",
       "      <td>\\n                            Haie viveCotonou...</td>\n",
       "      <td>\\n                                    Gsm:\\n  ...</td>\n",
       "    </tr>\n",
       "    <tr>\n",
       "      <th>14</th>\n",
       "      <td>\\n                            APOYO C'EST ELLE...</td>\n",
       "      <td>\\n                            Av du Renouveau,...</td>\n",
       "      <td>\\n                                    Gsm:\\n  ...</td>\n",
       "    </tr>\n",
       "    <tr>\n",
       "      <th>15</th>\n",
       "      <td>\\n                            ASHEYORI-OLUWA\\n...</td>\n",
       "      <td>\\n                            -MisséboCotonou ...</td>\n",
       "      <td>\\n                                    Gsm:\\n  ...</td>\n",
       "    </tr>\n",
       "    <tr>\n",
       "      <th>16</th>\n",
       "      <td>\\n                            AUBERGE YAPIYAPO...</td>\n",
       "      <td>\\n                            Von face à l'égl...</td>\n",
       "      <td>\\n                                    Gsm:\\n  ...</td>\n",
       "    </tr>\n",
       "    <tr>\n",
       "      <th>17</th>\n",
       "      <td>\\n                            AUTOMATIC\\n     ...</td>\n",
       "      <td>\\n                            Haie viveCotonou...</td>\n",
       "      <td>\\n                                    Gsm:\\n  ...</td>\n",
       "    </tr>\n",
       "    <tr>\n",
       "      <th>18</th>\n",
       "      <td>\\n                            BAB'S DOCK\\n    ...</td>\n",
       "      <td>\\n                            Houndodji, Route...</td>\n",
       "      <td>\\n                                    Gsm:\\n  ...</td>\n",
       "    </tr>\n",
       "    <tr>\n",
       "      <th>19</th>\n",
       "      <td>\\n                            BABEL RESTAURANT...</td>\n",
       "      <td>\\n                            Après le hall de...</td>\n",
       "      <td>\\n                                    Gsm:\\n  ...</td>\n",
       "    </tr>\n",
       "  </tbody>\n",
       "</table>\n",
       "</div>"
      ],
      "text/plain": [
       "                                                  nom  \\\n",
       "0   \\n                            8°5\\n           ...   \n",
       "1   \\n                            A LA DECOUVERTE\\...   \n",
       "2   \\n                            ACROPOLE HOTEL\\n...   \n",
       "3   \\n                            AFRICA SOUND CIT...   \n",
       "4   \\n                            AFRICAIN EUROPEE...   \n",
       "5   \\n                            AFRILANDO\\n     ...   \n",
       "6   \\n                            AGRO DYNAMIQUE\\n...   \n",
       "7   \\n                            AKANGO\\n        ...   \n",
       "8   \\n                            AKP ETERNEL PLUS...   \n",
       "9   \\n                            ALEX'S HOTEL\\n  ...   \n",
       "10  \\n                            ALISEE\\n        ...   \n",
       "11  \\n                            AMAZONE DES COLL...   \n",
       "12  \\n                            ANGELO\\n        ...   \n",
       "13  \\n                            ANTIKA\\n        ...   \n",
       "14  \\n                            APOYO C'EST ELLE...   \n",
       "15  \\n                            ASHEYORI-OLUWA\\n...   \n",
       "16  \\n                            AUBERGE YAPIYAPO...   \n",
       "17  \\n                            AUTOMATIC\\n     ...   \n",
       "18  \\n                            BAB'S DOCK\\n    ...   \n",
       "19  \\n                            BABEL RESTAURANT...   \n",
       "\n",
       "                                              adresse  \\\n",
       "0   \\n                            Haie Vive, Rue 3...   \n",
       "1   \\n                            GbegameyCotonou ...   \n",
       "2   \\n                            Rue 308Guinkomey...   \n",
       "3   \\n                            Rue en face de l...   \n",
       "4   \\n                            BP 1922, Atinkan...   \n",
       "5   \\n                            Carrefour  Aïtch...   \n",
       "6   \\n                            MenontinCotonou ...   \n",
       "7   \\n                            -Porto-Novo - Bé...   \n",
       "8   \\n                            -Abomey-Calavi -...   \n",
       "9   \\n                            235, Rue ChagasG...   \n",
       "10  \\n                            Fignon, Rue 506 ...   \n",
       "11  \\n                            PK 14GodomeyAbom...   \n",
       "12  \\n                            Route de la Dire...   \n",
       "13  \\n                            Haie viveCotonou...   \n",
       "14  \\n                            Av du Renouveau,...   \n",
       "15  \\n                            -MisséboCotonou ...   \n",
       "16  \\n                            Von face à l'égl...   \n",
       "17  \\n                            Haie viveCotonou...   \n",
       "18  \\n                            Houndodji, Route...   \n",
       "19  \\n                            Après le hall de...   \n",
       "\n",
       "                                            telephone  \n",
       "0   \\n                                    Tel:\\n  ...  \n",
       "1   \\n                                    Gsm:\\n  ...  \n",
       "2   \\n                                    Tel:\\n  ...  \n",
       "3   \\n                                    Tel:\\n  ...  \n",
       "4   \\n                                    Tel:\\n  ...  \n",
       "5   \\n                                    Gsm:\\n  ...  \n",
       "6   \\n                                    Gsm:\\n  ...  \n",
       "7   \\n                                    Gsm:\\n  ...  \n",
       "8   \\n                                    Gsm:\\n  ...  \n",
       "9   \\n                                    Tel:\\n  ...  \n",
       "10  \\n                                    Gsm:\\n  ...  \n",
       "11  \\n                                    Gsm:\\n  ...  \n",
       "12  \\n                                    Gsm:\\n  ...  \n",
       "13  \\n                                    Gsm:\\n  ...  \n",
       "14  \\n                                    Gsm:\\n  ...  \n",
       "15  \\n                                    Gsm:\\n  ...  \n",
       "16  \\n                                    Gsm:\\n  ...  \n",
       "17  \\n                                    Gsm:\\n  ...  \n",
       "18  \\n                                    Gsm:\\n  ...  \n",
       "19  \\n                                    Gsm:\\n  ...  "
      ]
     },
     "execution_count": 159,
     "metadata": {},
     "output_type": "execute_result"
    }
   ],
   "source": [
    "tableau"
   ]
  },
  {
   "cell_type": "code",
   "execution_count": 161,
   "metadata": {},
   "outputs": [
    {
     "data": {
      "text/plain": [
       "['1', '2', '3', '4']"
      ]
     },
     "execution_count": 161,
     "metadata": {},
     "output_type": "execute_result"
    }
   ],
   "source": [
    "pages =[ str(i) for i in range (1,5)]\n",
    "pages"
   ]
  },
  {
   "cell_type": "code",
   "execution_count": null,
   "metadata": {},
   "outputs": [],
   "source": []
  },
  {
   "cell_type": "code",
   "execution_count": null,
   "metadata": {},
   "outputs": [],
   "source": []
  },
  {
   "cell_type": "code",
   "execution_count": null,
   "metadata": {},
   "outputs": [],
   "source": []
  },
  {
   "cell_type": "code",
   "execution_count": null,
   "metadata": {},
   "outputs": [],
   "source": []
  },
  {
   "cell_type": "code",
   "execution_count": null,
   "metadata": {},
   "outputs": [],
   "source": []
  },
  {
   "cell_type": "code",
   "execution_count": null,
   "metadata": {},
   "outputs": [],
   "source": []
  },
  {
   "cell_type": "code",
   "execution_count": null,
   "metadata": {},
   "outputs": [],
   "source": []
  },
  {
   "cell_type": "code",
   "execution_count": null,
   "metadata": {},
   "outputs": [],
   "source": []
  },
  {
   "cell_type": "code",
   "execution_count": null,
   "metadata": {},
   "outputs": [],
   "source": []
  },
  {
   "cell_type": "code",
   "execution_count": null,
   "metadata": {},
   "outputs": [],
   "source": []
  },
  {
   "cell_type": "code",
   "execution_count": null,
   "metadata": {},
   "outputs": [],
   "source": []
  }
 ],
 "metadata": {
  "kernelspec": {
   "display_name": "Python 3",
   "language": "python",
   "name": "python3"
  },
  "language_info": {
   "codemirror_mode": {
    "name": "ipython",
    "version": 3
   },
   "file_extension": ".py",
   "mimetype": "text/x-python",
   "name": "python",
   "nbconvert_exporter": "python",
   "pygments_lexer": "ipython3",
   "version": "3.7.0"
  }
 },
 "nbformat": 4,
 "nbformat_minor": 4
}
